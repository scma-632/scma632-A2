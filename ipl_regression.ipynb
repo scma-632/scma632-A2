{
 "cells": [
  {
   "cell_type": "code",
   "execution_count": 2,
   "id": "dc6486ba",
   "metadata": {
    "ExecuteTime": {
     "end_time": "2024-06-23T05:58:09.443267Z",
     "start_time": "2024-06-23T05:58:07.847363Z"
    }
   },
   "outputs": [],
   "source": [
    "import pandas as pd, numpy as np"
   ]
  },
  {
   "cell_type": "code",
   "execution_count": 3,
   "id": "65bf59bb",
   "metadata": {
    "ExecuteTime": {
     "end_time": "2024-06-23T05:58:10.319350Z",
     "start_time": "2024-06-23T05:58:10.314857Z"
    }
   },
   "outputs": [],
   "source": [
    "import os\n",
    "os.chdir('E:\\Assignments_SCMA632\\Data')"
   ]
  },
  {
   "cell_type": "code",
   "execution_count": 4,
   "id": "54fc1e8f",
   "metadata": {
    "ExecuteTime": {
     "end_time": "2024-06-23T05:58:14.403861Z",
     "start_time": "2024-06-23T05:58:11.597062Z"
    }
   },
   "outputs": [],
   "source": [
    "df_ipl = pd.read_csv(\"IPL_ball_by_ball_updated till 2024.csv\",low_memory=False)\n",
    "salary = pd.read_excel(\"IPL SALARIES 2024.xlsx\")"
   ]
  },
  {
   "cell_type": "code",
   "execution_count": 5,
   "id": "c3c83c15",
   "metadata": {
    "ExecuteTime": {
     "end_time": "2024-06-23T05:58:15.482309Z",
     "start_time": "2024-06-23T05:58:15.472875Z"
    }
   },
   "outputs": [
    {
     "data": {
      "text/plain": [
       "Index(['Match id', 'Date', 'Season', 'Batting team', 'Bowling team',\n",
       "       'Innings No', 'Ball No', 'Bowler', 'Striker', 'Non Striker',\n",
       "       'runs_scored', 'extras', 'type of extras', 'score', 'score/wicket',\n",
       "       'wicket_confirmation', 'wicket_type', 'fielders_involved',\n",
       "       'Player Out'],\n",
       "      dtype='object')"
      ]
     },
     "execution_count": 5,
     "metadata": {},
     "output_type": "execute_result"
    }
   ],
   "source": [
    "df_ipl.columns"
   ]
  },
  {
   "cell_type": "code",
   "execution_count": 6,
   "id": "aab1abe8",
   "metadata": {
    "ExecuteTime": {
     "end_time": "2024-06-23T05:58:18.173958Z",
     "start_time": "2024-06-23T05:58:17.232011Z"
    }
   },
   "outputs": [],
   "source": [
    "grouped_data = df_ipl.groupby(['Season', 'Innings No', 'Striker','Bowler']).agg({'runs_scored': sum, 'wicket_confirmation':sum}).reset_index()"
   ]
  },
  {
   "cell_type": "code",
   "execution_count": 7,
   "id": "4e46e04d",
   "metadata": {
    "ExecuteTime": {
     "end_time": "2024-06-23T05:58:19.160116Z",
     "start_time": "2024-06-23T05:58:19.010788Z"
    }
   },
   "outputs": [
    {
     "data": {
      "text/html": [
       "<div>\n",
       "<style scoped>\n",
       "    .dataframe tbody tr th:only-of-type {\n",
       "        vertical-align: middle;\n",
       "    }\n",
       "\n",
       "    .dataframe tbody tr th {\n",
       "        vertical-align: top;\n",
       "    }\n",
       "\n",
       "    .dataframe thead th {\n",
       "        text-align: right;\n",
       "    }\n",
       "</style>\n",
       "<table border=\"1\" class=\"dataframe\">\n",
       "  <thead>\n",
       "    <tr style=\"text-align: right;\">\n",
       "      <th></th>\n",
       "      <th>Season</th>\n",
       "      <th>Innings No</th>\n",
       "      <th>Striker</th>\n",
       "      <th>Bowler</th>\n",
       "      <th>runs_scored</th>\n",
       "      <th>wicket_confirmation</th>\n",
       "    </tr>\n",
       "  </thead>\n",
       "  <tbody>\n",
       "    <tr>\n",
       "      <th>0</th>\n",
       "      <td>2007/08</td>\n",
       "      <td>1</td>\n",
       "      <td>A Chopra</td>\n",
       "      <td>DP Vijaykumar</td>\n",
       "      <td>1</td>\n",
       "      <td>0</td>\n",
       "    </tr>\n",
       "    <tr>\n",
       "      <th>1</th>\n",
       "      <td>2007/08</td>\n",
       "      <td>1</td>\n",
       "      <td>A Chopra</td>\n",
       "      <td>DW Steyn</td>\n",
       "      <td>1</td>\n",
       "      <td>1</td>\n",
       "    </tr>\n",
       "    <tr>\n",
       "      <th>2</th>\n",
       "      <td>2007/08</td>\n",
       "      <td>1</td>\n",
       "      <td>A Chopra</td>\n",
       "      <td>GD McGrath</td>\n",
       "      <td>2</td>\n",
       "      <td>0</td>\n",
       "    </tr>\n",
       "    <tr>\n",
       "      <th>3</th>\n",
       "      <td>2007/08</td>\n",
       "      <td>1</td>\n",
       "      <td>A Chopra</td>\n",
       "      <td>PJ Sangwan</td>\n",
       "      <td>6</td>\n",
       "      <td>1</td>\n",
       "    </tr>\n",
       "    <tr>\n",
       "      <th>4</th>\n",
       "      <td>2007/08</td>\n",
       "      <td>1</td>\n",
       "      <td>A Chopra</td>\n",
       "      <td>RP Singh</td>\n",
       "      <td>9</td>\n",
       "      <td>0</td>\n",
       "    </tr>\n",
       "    <tr>\n",
       "      <th>...</th>\n",
       "      <td>...</td>\n",
       "      <td>...</td>\n",
       "      <td>...</td>\n",
       "      <td>...</td>\n",
       "      <td>...</td>\n",
       "      <td>...</td>\n",
       "    </tr>\n",
       "    <tr>\n",
       "      <th>48781</th>\n",
       "      <td>2024</td>\n",
       "      <td>2</td>\n",
       "      <td>YBK Jaiswal</td>\n",
       "      <td>RJW Topley</td>\n",
       "      <td>0</td>\n",
       "      <td>1</td>\n",
       "    </tr>\n",
       "    <tr>\n",
       "      <th>48782</th>\n",
       "      <td>2024</td>\n",
       "      <td>2</td>\n",
       "      <td>YBK Jaiswal</td>\n",
       "      <td>SM Curran</td>\n",
       "      <td>6</td>\n",
       "      <td>0</td>\n",
       "    </tr>\n",
       "    <tr>\n",
       "      <th>48783</th>\n",
       "      <td>2024</td>\n",
       "      <td>2</td>\n",
       "      <td>YBK Jaiswal</td>\n",
       "      <td>Tilak Varma</td>\n",
       "      <td>5</td>\n",
       "      <td>0</td>\n",
       "    </tr>\n",
       "    <tr>\n",
       "      <th>48784</th>\n",
       "      <td>2024</td>\n",
       "      <td>2</td>\n",
       "      <td>YBK Jaiswal</td>\n",
       "      <td>VG Arora</td>\n",
       "      <td>10</td>\n",
       "      <td>1</td>\n",
       "    </tr>\n",
       "    <tr>\n",
       "      <th>48785</th>\n",
       "      <td>2024</td>\n",
       "      <td>2</td>\n",
       "      <td>YBK Jaiswal</td>\n",
       "      <td>Yash Thakur</td>\n",
       "      <td>5</td>\n",
       "      <td>0</td>\n",
       "    </tr>\n",
       "  </tbody>\n",
       "</table>\n",
       "<p>48786 rows × 6 columns</p>\n",
       "</div>"
      ],
      "text/plain": [
       "        Season  Innings No      Striker         Bowler  runs_scored  \\\n",
       "0      2007/08           1     A Chopra  DP Vijaykumar            1   \n",
       "1      2007/08           1     A Chopra       DW Steyn            1   \n",
       "2      2007/08           1     A Chopra     GD McGrath            2   \n",
       "3      2007/08           1     A Chopra     PJ Sangwan            6   \n",
       "4      2007/08           1     A Chopra       RP Singh            9   \n",
       "...        ...         ...          ...            ...          ...   \n",
       "48781     2024           2  YBK Jaiswal     RJW Topley            0   \n",
       "48782     2024           2  YBK Jaiswal      SM Curran            6   \n",
       "48783     2024           2  YBK Jaiswal    Tilak Varma            5   \n",
       "48784     2024           2  YBK Jaiswal       VG Arora           10   \n",
       "48785     2024           2  YBK Jaiswal    Yash Thakur            5   \n",
       "\n",
       "       wicket_confirmation  \n",
       "0                        0  \n",
       "1                        1  \n",
       "2                        0  \n",
       "3                        1  \n",
       "4                        0  \n",
       "...                    ...  \n",
       "48781                    1  \n",
       "48782                    0  \n",
       "48783                    0  \n",
       "48784                    1  \n",
       "48785                    0  \n",
       "\n",
       "[48786 rows x 6 columns]"
      ]
     },
     "execution_count": 7,
     "metadata": {},
     "output_type": "execute_result"
    }
   ],
   "source": [
    "grouped_data"
   ]
  },
  {
   "cell_type": "code",
   "execution_count": 8,
   "id": "a07b1b82",
   "metadata": {
    "ExecuteTime": {
     "end_time": "2024-06-23T05:58:21.772320Z",
     "start_time": "2024-06-23T05:58:21.719930Z"
    }
   },
   "outputs": [],
   "source": [
    "total_runs_each_year = grouped_data.groupby(['Season', 'Striker'])['runs_scored'].sum().reset_index()\n",
    "total_wicket_each_year = grouped_data.groupby(['Season', 'Bowler'])['wicket_confirmation'].sum().reset_index()"
   ]
  },
  {
   "cell_type": "code",
   "execution_count": 9,
   "id": "22688323",
   "metadata": {
    "ExecuteTime": {
     "end_time": "2024-06-23T05:58:24.948852Z",
     "start_time": "2024-06-23T05:58:24.933210Z"
    }
   },
   "outputs": [
    {
     "data": {
      "text/html": [
       "<div>\n",
       "<style scoped>\n",
       "    .dataframe tbody tr th:only-of-type {\n",
       "        vertical-align: middle;\n",
       "    }\n",
       "\n",
       "    .dataframe tbody tr th {\n",
       "        vertical-align: top;\n",
       "    }\n",
       "\n",
       "    .dataframe thead th {\n",
       "        text-align: right;\n",
       "    }\n",
       "</style>\n",
       "<table border=\"1\" class=\"dataframe\">\n",
       "  <thead>\n",
       "    <tr style=\"text-align: right;\">\n",
       "      <th></th>\n",
       "      <th>Season</th>\n",
       "      <th>Striker</th>\n",
       "      <th>runs_scored</th>\n",
       "    </tr>\n",
       "  </thead>\n",
       "  <tbody>\n",
       "    <tr>\n",
       "      <th>0</th>\n",
       "      <td>2007/08</td>\n",
       "      <td>A Chopra</td>\n",
       "      <td>42</td>\n",
       "    </tr>\n",
       "    <tr>\n",
       "      <th>1</th>\n",
       "      <td>2007/08</td>\n",
       "      <td>A Kumble</td>\n",
       "      <td>13</td>\n",
       "    </tr>\n",
       "    <tr>\n",
       "      <th>2</th>\n",
       "      <td>2007/08</td>\n",
       "      <td>A Mishra</td>\n",
       "      <td>37</td>\n",
       "    </tr>\n",
       "    <tr>\n",
       "      <th>3</th>\n",
       "      <td>2007/08</td>\n",
       "      <td>A Mukund</td>\n",
       "      <td>0</td>\n",
       "    </tr>\n",
       "    <tr>\n",
       "      <th>4</th>\n",
       "      <td>2007/08</td>\n",
       "      <td>A Nehra</td>\n",
       "      <td>3</td>\n",
       "    </tr>\n",
       "    <tr>\n",
       "      <th>...</th>\n",
       "      <td>...</td>\n",
       "      <td>...</td>\n",
       "      <td>...</td>\n",
       "    </tr>\n",
       "    <tr>\n",
       "      <th>2593</th>\n",
       "      <td>2024</td>\n",
       "      <td>Vijaykumar Vyshak</td>\n",
       "      <td>1</td>\n",
       "    </tr>\n",
       "    <tr>\n",
       "      <th>2594</th>\n",
       "      <td>2024</td>\n",
       "      <td>WG Jacks</td>\n",
       "      <td>176</td>\n",
       "    </tr>\n",
       "    <tr>\n",
       "      <th>2595</th>\n",
       "      <td>2024</td>\n",
       "      <td>WP Saha</td>\n",
       "      <td>135</td>\n",
       "    </tr>\n",
       "    <tr>\n",
       "      <th>2596</th>\n",
       "      <td>2024</td>\n",
       "      <td>Washington Sundar</td>\n",
       "      <td>0</td>\n",
       "    </tr>\n",
       "    <tr>\n",
       "      <th>2597</th>\n",
       "      <td>2024</td>\n",
       "      <td>YBK Jaiswal</td>\n",
       "      <td>249</td>\n",
       "    </tr>\n",
       "  </tbody>\n",
       "</table>\n",
       "<p>2598 rows × 3 columns</p>\n",
       "</div>"
      ],
      "text/plain": [
       "       Season            Striker  runs_scored\n",
       "0     2007/08           A Chopra           42\n",
       "1     2007/08           A Kumble           13\n",
       "2     2007/08           A Mishra           37\n",
       "3     2007/08           A Mukund            0\n",
       "4     2007/08            A Nehra            3\n",
       "...       ...                ...          ...\n",
       "2593     2024  Vijaykumar Vyshak            1\n",
       "2594     2024           WG Jacks          176\n",
       "2595     2024            WP Saha          135\n",
       "2596     2024  Washington Sundar            0\n",
       "2597     2024        YBK Jaiswal          249\n",
       "\n",
       "[2598 rows x 3 columns]"
      ]
     },
     "execution_count": 9,
     "metadata": {},
     "output_type": "execute_result"
    }
   ],
   "source": [
    "total_runs_each_year"
   ]
  },
  {
   "cell_type": "code",
   "execution_count": 9,
   "id": "a3bdf30d",
   "metadata": {
    "ExecuteTime": {
     "end_time": "2024-06-22T10:24:34.899809Z",
     "start_time": "2024-06-22T10:24:34.888701Z"
    }
   },
   "outputs": [],
   "source": [
    "#pip install python-Levenshtein"
   ]
  },
  {
   "cell_type": "code",
   "execution_count": 10,
   "id": "1ba0afa2",
   "metadata": {
    "ExecuteTime": {
     "end_time": "2024-06-23T05:59:00.438341Z",
     "start_time": "2024-06-23T05:58:34.189032Z"
    }
   },
   "outputs": [],
   "source": [
    "from fuzzywuzzy import process\n",
    "\n",
    "# Convert to DataFrame\n",
    "df_salary = salary.copy()\n",
    "df_runs = total_runs_each_year.copy()\n",
    "\n",
    "# Function to match names\n",
    "def match_names(name, names_list):\n",
    "    match, score = process.extractOne(name, names_list)\n",
    "    return match if score >= 80 else None  # Use a threshold score of 80\n",
    "\n",
    "# Create a new column in df_salary with matched names from df_runs\n",
    "df_salary['Matched_Player'] = df_salary['Player'].apply(lambda x: match_names(x, df_runs['Striker'].tolist()))\n",
    "\n",
    "# Merge the DataFrames on the matched names\n",
    "df_merged = pd.merge(df_salary, df_runs, left_on='Matched_Player', right_on='Striker')"
   ]
  },
  {
   "cell_type": "code",
   "execution_count": 11,
   "id": "9150811d",
   "metadata": {
    "ExecuteTime": {
     "end_time": "2024-06-23T05:59:33.559288Z",
     "start_time": "2024-06-23T05:59:33.554214Z"
    }
   },
   "outputs": [],
   "source": [
    "df_original = df_merged.copy()"
   ]
  },
  {
   "cell_type": "code",
   "execution_count": 12,
   "id": "c7d97162",
   "metadata": {
    "ExecuteTime": {
     "end_time": "2024-06-23T06:00:00.771123Z",
     "start_time": "2024-06-23T06:00:00.761902Z"
    }
   },
   "outputs": [],
   "source": [
    "#susbsets data for last three years\n",
    "df_merged = df_merged.loc[df_merged['Season'].isin(['2021', '2022', '2023'])]"
   ]
  },
  {
   "cell_type": "code",
   "execution_count": 13,
   "id": "bf8ecb9d",
   "metadata": {
    "ExecuteTime": {
     "end_time": "2024-06-23T06:00:02.433501Z",
     "start_time": "2024-06-23T06:00:02.426680Z"
    }
   },
   "outputs": [
    {
     "data": {
      "text/plain": [
       "array(['2023', '2022', '2021'], dtype=object)"
      ]
     },
     "execution_count": 13,
     "metadata": {},
     "output_type": "execute_result"
    }
   ],
   "source": [
    "df_merged.Season.unique()"
   ]
  },
  {
   "cell_type": "code",
   "execution_count": 14,
   "id": "d02b2a22",
   "metadata": {
    "ExecuteTime": {
     "end_time": "2024-06-23T06:00:25.327470Z",
     "start_time": "2024-06-23T06:00:25.307326Z"
    }
   },
   "outputs": [
    {
     "data": {
      "text/html": [
       "<div>\n",
       "<style scoped>\n",
       "    .dataframe tbody tr th:only-of-type {\n",
       "        vertical-align: middle;\n",
       "    }\n",
       "\n",
       "    .dataframe tbody tr th {\n",
       "        vertical-align: top;\n",
       "    }\n",
       "\n",
       "    .dataframe thead th {\n",
       "        text-align: right;\n",
       "    }\n",
       "</style>\n",
       "<table border=\"1\" class=\"dataframe\">\n",
       "  <thead>\n",
       "    <tr style=\"text-align: right;\">\n",
       "      <th></th>\n",
       "      <th>Player</th>\n",
       "      <th>Salary</th>\n",
       "      <th>Rs</th>\n",
       "      <th>international</th>\n",
       "      <th>iconic</th>\n",
       "      <th>Matched_Player</th>\n",
       "      <th>Season</th>\n",
       "      <th>Striker</th>\n",
       "      <th>runs_scored</th>\n",
       "    </tr>\n",
       "  </thead>\n",
       "  <tbody>\n",
       "    <tr>\n",
       "      <th>0</th>\n",
       "      <td>Abhishek Porel</td>\n",
       "      <td>20 lakh</td>\n",
       "      <td>20</td>\n",
       "      <td>0</td>\n",
       "      <td>NaN</td>\n",
       "      <td>Abishek Porel</td>\n",
       "      <td>2023</td>\n",
       "      <td>Abishek Porel</td>\n",
       "      <td>33</td>\n",
       "    </tr>\n",
       "    <tr>\n",
       "      <th>3</th>\n",
       "      <td>Anrich Nortje</td>\n",
       "      <td>6.5 crore</td>\n",
       "      <td>650</td>\n",
       "      <td>1</td>\n",
       "      <td>NaN</td>\n",
       "      <td>A Nortje</td>\n",
       "      <td>2022</td>\n",
       "      <td>A Nortje</td>\n",
       "      <td>1</td>\n",
       "    </tr>\n",
       "    <tr>\n",
       "      <th>4</th>\n",
       "      <td>Anrich Nortje</td>\n",
       "      <td>6.5 crore</td>\n",
       "      <td>650</td>\n",
       "      <td>1</td>\n",
       "      <td>NaN</td>\n",
       "      <td>A Nortje</td>\n",
       "      <td>2023</td>\n",
       "      <td>A Nortje</td>\n",
       "      <td>37</td>\n",
       "    </tr>\n",
       "    <tr>\n",
       "      <th>13</th>\n",
       "      <td>Axar Patel</td>\n",
       "      <td>9 crore</td>\n",
       "      <td>900</td>\n",
       "      <td>0</td>\n",
       "      <td>NaN</td>\n",
       "      <td>AR Patel</td>\n",
       "      <td>2021</td>\n",
       "      <td>AR Patel</td>\n",
       "      <td>40</td>\n",
       "    </tr>\n",
       "    <tr>\n",
       "      <th>14</th>\n",
       "      <td>Axar Patel</td>\n",
       "      <td>9 crore</td>\n",
       "      <td>900</td>\n",
       "      <td>0</td>\n",
       "      <td>NaN</td>\n",
       "      <td>AR Patel</td>\n",
       "      <td>2022</td>\n",
       "      <td>AR Patel</td>\n",
       "      <td>182</td>\n",
       "    </tr>\n",
       "  </tbody>\n",
       "</table>\n",
       "</div>"
      ],
      "text/plain": [
       "            Player     Salary   Rs  international  iconic Matched_Player  \\\n",
       "0   Abhishek Porel    20 lakh   20              0     NaN  Abishek Porel   \n",
       "3    Anrich Nortje  6.5 crore  650              1     NaN       A Nortje   \n",
       "4    Anrich Nortje  6.5 crore  650              1     NaN       A Nortje   \n",
       "13      Axar Patel    9 crore  900              0     NaN       AR Patel   \n",
       "14      Axar Patel    9 crore  900              0     NaN       AR Patel   \n",
       "\n",
       "   Season        Striker  runs_scored  \n",
       "0    2023  Abishek Porel           33  \n",
       "3    2022       A Nortje            1  \n",
       "4    2023       A Nortje           37  \n",
       "13   2021       AR Patel           40  \n",
       "14   2022       AR Patel          182  "
      ]
     },
     "execution_count": 14,
     "metadata": {},
     "output_type": "execute_result"
    }
   ],
   "source": [
    "df_merged.head()"
   ]
  },
  {
   "cell_type": "code",
   "execution_count": 16,
   "id": "7bb8e319",
   "metadata": {
    "ExecuteTime": {
     "end_time": "2024-06-23T06:00:57.554991Z",
     "start_time": "2024-06-23T06:00:57.551526Z"
    }
   },
   "outputs": [],
   "source": [
    "from sklearn.linear_model import LinearRegression\n",
    "from sklearn.model_selection import train_test_split\n",
    "from sklearn.metrics import mean_squared_error"
   ]
  },
  {
   "cell_type": "code",
   "execution_count": 17,
   "id": "4cb79397",
   "metadata": {
    "ExecuteTime": {
     "end_time": "2024-06-23T06:01:00.890213Z",
     "start_time": "2024-06-23T06:00:59.443808Z"
    }
   },
   "outputs": [
    {
     "data": {
      "text/html": [
       "<style>#sk-container-id-1 {color: black;}#sk-container-id-1 pre{padding: 0;}#sk-container-id-1 div.sk-toggleable {background-color: white;}#sk-container-id-1 label.sk-toggleable__label {cursor: pointer;display: block;width: 100%;margin-bottom: 0;padding: 0.3em;box-sizing: border-box;text-align: center;}#sk-container-id-1 label.sk-toggleable__label-arrow:before {content: \"▸\";float: left;margin-right: 0.25em;color: #696969;}#sk-container-id-1 label.sk-toggleable__label-arrow:hover:before {color: black;}#sk-container-id-1 div.sk-estimator:hover label.sk-toggleable__label-arrow:before {color: black;}#sk-container-id-1 div.sk-toggleable__content {max-height: 0;max-width: 0;overflow: hidden;text-align: left;background-color: #f0f8ff;}#sk-container-id-1 div.sk-toggleable__content pre {margin: 0.2em;color: black;border-radius: 0.25em;background-color: #f0f8ff;}#sk-container-id-1 input.sk-toggleable__control:checked~div.sk-toggleable__content {max-height: 200px;max-width: 100%;overflow: auto;}#sk-container-id-1 input.sk-toggleable__control:checked~label.sk-toggleable__label-arrow:before {content: \"▾\";}#sk-container-id-1 div.sk-estimator input.sk-toggleable__control:checked~label.sk-toggleable__label {background-color: #d4ebff;}#sk-container-id-1 div.sk-label input.sk-toggleable__control:checked~label.sk-toggleable__label {background-color: #d4ebff;}#sk-container-id-1 input.sk-hidden--visually {border: 0;clip: rect(1px 1px 1px 1px);clip: rect(1px, 1px, 1px, 1px);height: 1px;margin: -1px;overflow: hidden;padding: 0;position: absolute;width: 1px;}#sk-container-id-1 div.sk-estimator {font-family: monospace;background-color: #f0f8ff;border: 1px dotted black;border-radius: 0.25em;box-sizing: border-box;margin-bottom: 0.5em;}#sk-container-id-1 div.sk-estimator:hover {background-color: #d4ebff;}#sk-container-id-1 div.sk-parallel-item::after {content: \"\";width: 100%;border-bottom: 1px solid gray;flex-grow: 1;}#sk-container-id-1 div.sk-label:hover label.sk-toggleable__label {background-color: #d4ebff;}#sk-container-id-1 div.sk-serial::before {content: \"\";position: absolute;border-left: 1px solid gray;box-sizing: border-box;top: 0;bottom: 0;left: 50%;z-index: 0;}#sk-container-id-1 div.sk-serial {display: flex;flex-direction: column;align-items: center;background-color: white;padding-right: 0.2em;padding-left: 0.2em;position: relative;}#sk-container-id-1 div.sk-item {position: relative;z-index: 1;}#sk-container-id-1 div.sk-parallel {display: flex;align-items: stretch;justify-content: center;background-color: white;position: relative;}#sk-container-id-1 div.sk-item::before, #sk-container-id-1 div.sk-parallel-item::before {content: \"\";position: absolute;border-left: 1px solid gray;box-sizing: border-box;top: 0;bottom: 0;left: 50%;z-index: -1;}#sk-container-id-1 div.sk-parallel-item {display: flex;flex-direction: column;z-index: 1;position: relative;background-color: white;}#sk-container-id-1 div.sk-parallel-item:first-child::after {align-self: flex-end;width: 50%;}#sk-container-id-1 div.sk-parallel-item:last-child::after {align-self: flex-start;width: 50%;}#sk-container-id-1 div.sk-parallel-item:only-child::after {width: 0;}#sk-container-id-1 div.sk-dashed-wrapped {border: 1px dashed gray;margin: 0 0.4em 0.5em 0.4em;box-sizing: border-box;padding-bottom: 0.4em;background-color: white;}#sk-container-id-1 div.sk-label label {font-family: monospace;font-weight: bold;display: inline-block;line-height: 1.2em;}#sk-container-id-1 div.sk-label-container {text-align: center;}#sk-container-id-1 div.sk-container {/* jupyter's `normalize.less` sets `[hidden] { display: none; }` but bootstrap.min.css set `[hidden] { display: none !important; }` so we also need the `!important` here to be able to override the default hidden behavior on the sphinx rendered scikit-learn.org. See: https://github.com/scikit-learn/scikit-learn/issues/21755 */display: inline-block !important;position: relative;}#sk-container-id-1 div.sk-text-repr-fallback {display: none;}</style><div id=\"sk-container-id-1\" class=\"sk-top-container\"><div class=\"sk-text-repr-fallback\"><pre>LinearRegression()</pre><b>In a Jupyter environment, please rerun this cell to show the HTML representation or trust the notebook. <br />On GitHub, the HTML representation is unable to render, please try loading this page with nbviewer.org.</b></div><div class=\"sk-container\" hidden><div class=\"sk-item\"><div class=\"sk-estimator sk-toggleable\"><input class=\"sk-toggleable__control sk-hidden--visually\" id=\"sk-estimator-id-1\" type=\"checkbox\" checked><label for=\"sk-estimator-id-1\" class=\"sk-toggleable__label sk-toggleable__label-arrow\">LinearRegression</label><div class=\"sk-toggleable__content\"><pre>LinearRegression()</pre></div></div></div></div></div>"
      ],
      "text/plain": [
       "LinearRegression()"
      ]
     },
     "execution_count": 17,
     "metadata": {},
     "output_type": "execute_result"
    }
   ],
   "source": [
    "import pandas as pd\n",
    "from sklearn.linear_model import LinearRegression\n",
    "from sklearn.metrics import r2_score, mean_absolute_percentage_error\n",
    "X = df_merged[['runs_scored']] # Independent variable(s)\n",
    "y = df_merged['Rs'] # Dependent variable\n",
    "# Split the data into training and test sets (80% for training, 20% for testing)\n",
    "X_train, X_test, y_train, y_test = train_test_split(X, y, test_size=0.2, random_state=42)\n",
    "# Create a LinearRegression model\n",
    "model = LinearRegression()\n",
    "# Fit the model on the training data\n",
    "model.fit(X_train, y_train)"
   ]
  },
  {
   "cell_type": "code",
   "execution_count": 18,
   "id": "a642edf3",
   "metadata": {
    "ExecuteTime": {
     "end_time": "2024-06-23T06:01:03.825438Z",
     "start_time": "2024-06-23T06:01:03.814298Z"
    }
   },
   "outputs": [
    {
     "data": {
      "text/html": [
       "<div>\n",
       "<style scoped>\n",
       "    .dataframe tbody tr th:only-of-type {\n",
       "        vertical-align: middle;\n",
       "    }\n",
       "\n",
       "    .dataframe tbody tr th {\n",
       "        vertical-align: top;\n",
       "    }\n",
       "\n",
       "    .dataframe thead th {\n",
       "        text-align: right;\n",
       "    }\n",
       "</style>\n",
       "<table border=\"1\" class=\"dataframe\">\n",
       "  <thead>\n",
       "    <tr style=\"text-align: right;\">\n",
       "      <th></th>\n",
       "      <th>runs_scored</th>\n",
       "    </tr>\n",
       "  </thead>\n",
       "  <tbody>\n",
       "    <tr>\n",
       "      <th>0</th>\n",
       "      <td>33</td>\n",
       "    </tr>\n",
       "    <tr>\n",
       "      <th>3</th>\n",
       "      <td>1</td>\n",
       "    </tr>\n",
       "    <tr>\n",
       "      <th>4</th>\n",
       "      <td>37</td>\n",
       "    </tr>\n",
       "    <tr>\n",
       "      <th>13</th>\n",
       "      <td>40</td>\n",
       "    </tr>\n",
       "    <tr>\n",
       "      <th>14</th>\n",
       "      <td>182</td>\n",
       "    </tr>\n",
       "  </tbody>\n",
       "</table>\n",
       "</div>"
      ],
      "text/plain": [
       "    runs_scored\n",
       "0            33\n",
       "3             1\n",
       "4            37\n",
       "13           40\n",
       "14          182"
      ]
     },
     "execution_count": 18,
     "metadata": {},
     "output_type": "execute_result"
    }
   ],
   "source": [
    "X.head()"
   ]
  },
  {
   "cell_type": "code",
   "execution_count": 19,
   "id": "6860c724",
   "metadata": {
    "ExecuteTime": {
     "end_time": "2024-06-23T06:01:11.663843Z",
     "start_time": "2024-06-23T06:01:10.541568Z"
    }
   },
   "outputs": [
    {
     "name": "stdout",
     "output_type": "stream",
     "text": [
      "                            OLS Regression Results                            \n",
      "==============================================================================\n",
      "Dep. Variable:                     Rs   R-squared:                       0.080\n",
      "Model:                            OLS   Adj. R-squared:                  0.075\n",
      "Method:                 Least Squares   F-statistic:                     15.83\n",
      "Date:                Sun, 23 Jun 2024   Prob (F-statistic):           0.000100\n",
      "Time:                        11:31:11   Log-Likelihood:                -1379.8\n",
      "No. Observations:                 183   AIC:                             2764.\n",
      "Df Residuals:                     181   BIC:                             2770.\n",
      "Df Model:                           1                                         \n",
      "Covariance Type:            nonrobust                                         \n",
      "===============================================================================\n",
      "                  coef    std err          t      P>|t|      [0.025      0.975]\n",
      "-------------------------------------------------------------------------------\n",
      "const         430.8473     46.111      9.344      0.000     339.864     521.831\n",
      "runs_scored     0.6895      0.173      3.979      0.000       0.348       1.031\n",
      "==============================================================================\n",
      "Omnibus:                       15.690   Durbin-Watson:                   2.100\n",
      "Prob(Omnibus):                  0.000   Jarque-Bera (JB):               18.057\n",
      "Skew:                           0.764   Prob(JB):                     0.000120\n",
      "Kurtosis:                       2.823   Cond. No.                         363.\n",
      "==============================================================================\n",
      "\n",
      "Notes:\n",
      "[1] Standard Errors assume that the covariance matrix of the errors is correctly specified.\n"
     ]
    }
   ],
   "source": [
    "import pandas as pd\n",
    "from sklearn.model_selection import train_test_split\n",
    "import statsmodels.api as sm\n",
    "\n",
    "# Assuming df_merged is already defined and contains the necessary columns\n",
    "X = df_merged[['runs_scored']] # Independent variable(s)\n",
    "y = df_merged['Rs'] # Dependent variable\n",
    "\n",
    "# Split the data into training and test sets (80% for training, 20% for testing)\n",
    "X_train, X_test, y_train, y_test = train_test_split(X, y, test_size=0.2, random_state=42)\n",
    "\n",
    "# Add a constant to the model (intercept)\n",
    "X_train_sm = sm.add_constant(X_train)\n",
    "\n",
    "# Create a statsmodels OLS regression model\n",
    "model = sm.OLS(y_train, X_train_sm).fit()\n",
    "\n",
    "# Get the summary of the model\n",
    "summary = model.summary()\n",
    "print(summary)"
   ]
  },
  {
   "cell_type": "code",
   "execution_count": 32,
   "id": "3f7547f6",
   "metadata": {
    "ExecuteTime": {
     "end_time": "2024-06-23T06:07:43.074261Z",
     "start_time": "2024-06-23T06:07:22.968643Z"
    }
   },
   "outputs": [],
   "source": [
    "from fuzzywuzzy import process\n",
    "\n",
    "# Convert to DataFrame\n",
    "df_salary = salary.copy()\n",
    "df_runs = total_wicket_each_year.copy()\n",
    "\n",
    "# Function to match names\n",
    "def match_names(name, names_list):\n",
    "    match, score = process.extractOne(name, names_list)\n",
    "    return match if score >= 80 else None  # Use a threshold score of 80\n",
    "\n",
    "# Create a new column in df_salary with matched names from df_runs\n",
    "df_salary['Matched_Player'] = df_salary['Player'].apply(lambda x: match_names(x, df_runs['Bowler'].tolist()))\n",
    "\n",
    "# Merge the DataFrames on the matched names\n",
    "df_merged = pd.merge(df_salary, df_runs, left_on='Matched_Player', right_on='Bowler')"
   ]
  },
  {
   "cell_type": "code",
   "execution_count": 37,
   "id": "247a3511",
   "metadata": {
    "ExecuteTime": {
     "end_time": "2024-06-23T06:09:15.855888Z",
     "start_time": "2024-06-23T06:09:15.833247Z"
    }
   },
   "outputs": [
    {
     "data": {
      "text/html": [
       "<div>\n",
       "<style scoped>\n",
       "    .dataframe tbody tr th:only-of-type {\n",
       "        vertical-align: middle;\n",
       "    }\n",
       "\n",
       "    .dataframe tbody tr th {\n",
       "        vertical-align: top;\n",
       "    }\n",
       "\n",
       "    .dataframe thead th {\n",
       "        text-align: right;\n",
       "    }\n",
       "</style>\n",
       "<table border=\"1\" class=\"dataframe\">\n",
       "  <thead>\n",
       "    <tr style=\"text-align: right;\">\n",
       "      <th></th>\n",
       "      <th>Player</th>\n",
       "      <th>Salary</th>\n",
       "      <th>Rs</th>\n",
       "      <th>international</th>\n",
       "      <th>iconic</th>\n",
       "      <th>Matched_Player</th>\n",
       "      <th>Season</th>\n",
       "      <th>Bowler</th>\n",
       "      <th>wicket_confirmation</th>\n",
       "    </tr>\n",
       "  </thead>\n",
       "  <tbody>\n",
       "    <tr>\n",
       "      <th>1</th>\n",
       "      <td>Anrich Nortje</td>\n",
       "      <td>6.5 crore</td>\n",
       "      <td>650</td>\n",
       "      <td>1</td>\n",
       "      <td>NaN</td>\n",
       "      <td>A Nortje</td>\n",
       "      <td>2020/21</td>\n",
       "      <td>A Nortje</td>\n",
       "      <td>23</td>\n",
       "    </tr>\n",
       "    <tr>\n",
       "      <th>2</th>\n",
       "      <td>Anrich Nortje</td>\n",
       "      <td>6.5 crore</td>\n",
       "      <td>650</td>\n",
       "      <td>1</td>\n",
       "      <td>NaN</td>\n",
       "      <td>A Nortje</td>\n",
       "      <td>2021</td>\n",
       "      <td>A Nortje</td>\n",
       "      <td>12</td>\n",
       "    </tr>\n",
       "    <tr>\n",
       "      <th>4</th>\n",
       "      <td>Anrich Nortje</td>\n",
       "      <td>6.5 crore</td>\n",
       "      <td>650</td>\n",
       "      <td>1</td>\n",
       "      <td>NaN</td>\n",
       "      <td>A Nortje</td>\n",
       "      <td>2023</td>\n",
       "      <td>A Nortje</td>\n",
       "      <td>11</td>\n",
       "    </tr>\n",
       "    <tr>\n",
       "      <th>6</th>\n",
       "      <td>Axar Patel</td>\n",
       "      <td>9 crore</td>\n",
       "      <td>900</td>\n",
       "      <td>0</td>\n",
       "      <td>NaN</td>\n",
       "      <td>AR Patel</td>\n",
       "      <td>2014</td>\n",
       "      <td>AR Patel</td>\n",
       "      <td>19</td>\n",
       "    </tr>\n",
       "    <tr>\n",
       "      <th>7</th>\n",
       "      <td>Axar Patel</td>\n",
       "      <td>9 crore</td>\n",
       "      <td>900</td>\n",
       "      <td>0</td>\n",
       "      <td>NaN</td>\n",
       "      <td>AR Patel</td>\n",
       "      <td>2015</td>\n",
       "      <td>AR Patel</td>\n",
       "      <td>14</td>\n",
       "    </tr>\n",
       "    <tr>\n",
       "      <th>...</th>\n",
       "      <td>...</td>\n",
       "      <td>...</td>\n",
       "      <td>...</td>\n",
       "      <td>...</td>\n",
       "      <td>...</td>\n",
       "      <td>...</td>\n",
       "      <td>...</td>\n",
       "      <td>...</td>\n",
       "      <td>...</td>\n",
       "    </tr>\n",
       "    <tr>\n",
       "      <th>589</th>\n",
       "      <td>T. Natarajan</td>\n",
       "      <td>3.2 crore</td>\n",
       "      <td>320</td>\n",
       "      <td>0</td>\n",
       "      <td>NaN</td>\n",
       "      <td>T Natarajan</td>\n",
       "      <td>2020/21</td>\n",
       "      <td>T Natarajan</td>\n",
       "      <td>19</td>\n",
       "    </tr>\n",
       "    <tr>\n",
       "      <th>591</th>\n",
       "      <td>T. Natarajan</td>\n",
       "      <td>3.2 crore</td>\n",
       "      <td>320</td>\n",
       "      <td>0</td>\n",
       "      <td>NaN</td>\n",
       "      <td>T Natarajan</td>\n",
       "      <td>2022</td>\n",
       "      <td>T Natarajan</td>\n",
       "      <td>20</td>\n",
       "    </tr>\n",
       "    <tr>\n",
       "      <th>592</th>\n",
       "      <td>T. Natarajan</td>\n",
       "      <td>3.2 crore</td>\n",
       "      <td>320</td>\n",
       "      <td>0</td>\n",
       "      <td>NaN</td>\n",
       "      <td>T Natarajan</td>\n",
       "      <td>2023</td>\n",
       "      <td>T Natarajan</td>\n",
       "      <td>13</td>\n",
       "    </tr>\n",
       "    <tr>\n",
       "      <th>593</th>\n",
       "      <td>T. Natarajan</td>\n",
       "      <td>3.2 crore</td>\n",
       "      <td>320</td>\n",
       "      <td>0</td>\n",
       "      <td>NaN</td>\n",
       "      <td>T Natarajan</td>\n",
       "      <td>2024</td>\n",
       "      <td>T Natarajan</td>\n",
       "      <td>13</td>\n",
       "    </tr>\n",
       "    <tr>\n",
       "      <th>595</th>\n",
       "      <td>Umran Malik</td>\n",
       "      <td>4 crore</td>\n",
       "      <td>400</td>\n",
       "      <td>0</td>\n",
       "      <td>NaN</td>\n",
       "      <td>Umran Malik</td>\n",
       "      <td>2022</td>\n",
       "      <td>Umran Malik</td>\n",
       "      <td>23</td>\n",
       "    </tr>\n",
       "  </tbody>\n",
       "</table>\n",
       "<p>227 rows × 9 columns</p>\n",
       "</div>"
      ],
      "text/plain": [
       "            Player     Salary   Rs  international  iconic Matched_Player  \\\n",
       "1    Anrich Nortje  6.5 crore  650              1     NaN       A Nortje   \n",
       "2    Anrich Nortje  6.5 crore  650              1     NaN       A Nortje   \n",
       "4    Anrich Nortje  6.5 crore  650              1     NaN       A Nortje   \n",
       "6       Axar Patel    9 crore  900              0     NaN       AR Patel   \n",
       "7       Axar Patel    9 crore  900              0     NaN       AR Patel   \n",
       "..             ...        ...  ...            ...     ...            ...   \n",
       "589   T. Natarajan  3.2 crore  320              0     NaN    T Natarajan   \n",
       "591   T. Natarajan  3.2 crore  320              0     NaN    T Natarajan   \n",
       "592   T. Natarajan  3.2 crore  320              0     NaN    T Natarajan   \n",
       "593   T. Natarajan  3.2 crore  320              0     NaN    T Natarajan   \n",
       "595    Umran Malik    4 crore  400              0     NaN    Umran Malik   \n",
       "\n",
       "      Season       Bowler  wicket_confirmation  \n",
       "1    2020/21     A Nortje                   23  \n",
       "2       2021     A Nortje                   12  \n",
       "4       2023     A Nortje                   11  \n",
       "6       2014     AR Patel                   19  \n",
       "7       2015     AR Patel                   14  \n",
       "..       ...          ...                  ...  \n",
       "589  2020/21  T Natarajan                   19  \n",
       "591     2022  T Natarajan                   20  \n",
       "592     2023  T Natarajan                   13  \n",
       "593     2024  T Natarajan                   13  \n",
       "595     2022  Umran Malik                   23  \n",
       "\n",
       "[227 rows x 9 columns]"
      ]
     },
     "execution_count": 37,
     "metadata": {},
     "output_type": "execute_result"
    }
   ],
   "source": [
    "df_merged[df_merged['wicket_confirmation']>10]"
   ]
  },
  {
   "cell_type": "code",
   "execution_count": 26,
   "id": "1f394d79",
   "metadata": {
    "ExecuteTime": {
     "end_time": "2024-06-23T06:05:14.613300Z",
     "start_time": "2024-06-23T06:05:14.607078Z"
    }
   },
   "outputs": [],
   "source": [
    "#susbsets data for last three years\n",
    "df_merged = df_merged.loc[df_merged['Season'].isin(['2022'])]"
   ]
  },
  {
   "cell_type": "code",
   "execution_count": 39,
   "id": "b2a36dfe",
   "metadata": {
    "ExecuteTime": {
     "end_time": "2024-06-23T06:09:37.876756Z",
     "start_time": "2024-06-23T06:09:37.855406Z"
    }
   },
   "outputs": [
    {
     "name": "stdout",
     "output_type": "stream",
     "text": [
      "                            OLS Regression Results                            \n",
      "==============================================================================\n",
      "Dep. Variable:                     Rs   R-squared:                       0.001\n",
      "Model:                            OLS   Adj. R-squared:                 -0.001\n",
      "Method:                 Least Squares   F-statistic:                    0.6043\n",
      "Date:                Sun, 23 Jun 2024   Prob (F-statistic):              0.437\n",
      "Time:                        11:39:37   Log-Likelihood:                -3701.4\n",
      "No. Observations:                 484   AIC:                             7407.\n",
      "Df Residuals:                     482   BIC:                             7415.\n",
      "Df Model:                           1                                         \n",
      "Covariance Type:            nonrobust                                         \n",
      "=======================================================================================\n",
      "                          coef    std err          t      P>|t|      [0.025      0.975]\n",
      "---------------------------------------------------------------------------------------\n",
      "const                 480.9475     36.206     13.284      0.000     409.807     552.088\n",
      "wicket_confirmation     2.6144      3.363      0.777      0.437      -3.994       9.222\n",
      "==============================================================================\n",
      "Omnibus:                       50.971   Durbin-Watson:                   2.022\n",
      "Prob(Omnibus):                  0.000   Jarque-Bera (JB):               65.175\n",
      "Skew:                           0.892   Prob(JB):                     7.04e-15\n",
      "Kurtosis:                       2.774   Cond. No.                         17.0\n",
      "==============================================================================\n",
      "\n",
      "Notes:\n",
      "[1] Standard Errors assume that the covariance matrix of the errors is correctly specified.\n"
     ]
    }
   ],
   "source": [
    "import pandas as pd\n",
    "from sklearn.model_selection import train_test_split\n",
    "import statsmodels.api as sm\n",
    "\n",
    "# Assuming df_merged is already defined and contains the necessary columns\n",
    "X = df_merged[['wicket_confirmation']] # Independent variable(s)\n",
    "y = df_merged['Rs'] # Dependent variable\n",
    "\n",
    "# Split the data into training and test sets (80% for training, 20% for testing)\n",
    "X_train, X_test, y_train, y_test = train_test_split(X, y, test_size=0.2, random_state=42)\n",
    "\n",
    "# Add a constant to the model (intercept)\n",
    "X_train_sm = sm.add_constant(X_train)\n",
    "\n",
    "# Create a statsmodels OLS regression model\n",
    "model = sm.OLS(y_train, X_train_sm).fit()\n",
    "\n",
    "# Get the summary of the model\n",
    "summary = model.summary()\n",
    "print(summary)"
   ]
  }
 ],
 "metadata": {
  "kernelspec": {
   "display_name": "Python 3 (ipykernel)",
   "language": "python",
   "name": "python3"
  },
  "language_info": {
   "codemirror_mode": {
    "name": "ipython",
    "version": 3
   },
   "file_extension": ".py",
   "mimetype": "text/x-python",
   "name": "python",
   "nbconvert_exporter": "python",
   "pygments_lexer": "ipython3",
   "version": "3.11.5"
  },
  "varInspector": {
   "cols": {
    "lenName": 16,
    "lenType": 16,
    "lenVar": 40
   },
   "kernels_config": {
    "python": {
     "delete_cmd_postfix": "",
     "delete_cmd_prefix": "del ",
     "library": "var_list.py",
     "varRefreshCmd": "print(var_dic_list())"
    },
    "r": {
     "delete_cmd_postfix": ") ",
     "delete_cmd_prefix": "rm(",
     "library": "var_list.r",
     "varRefreshCmd": "cat(var_dic_list()) "
    }
   },
   "types_to_exclude": [
    "module",
    "function",
    "builtin_function_or_method",
    "instance",
    "_Feature"
   ],
   "window_display": false
  }
 },
 "nbformat": 4,
 "nbformat_minor": 5
}
